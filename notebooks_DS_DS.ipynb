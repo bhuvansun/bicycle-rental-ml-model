{
  "metadata": {
    "language_info": {
      "codemirror_mode": {
        "name": "python",
        "version": 3
      },
      "file_extension": ".py",
      "mimetype": "text/x-python",
      "name": "python",
      "nbconvert_exporter": "python",
      "pygments_lexer": "ipython3",
      "version": "3.8"
    },
    "kernelspec": {
      "name": "python",
      "display_name": "Python (Pyodide)",
      "language": "python"
    }
  },
  "nbformat_minor": 4,
  "nbformat": 4,
  "cells": [
    {
      "cell_type": "markdown",
      "source": "# Data Science",
      "metadata": {}
    },
    {
      "cell_type": "markdown",
      "source": "Day 1\n",
      "metadata": {}
    },
    {
      "cell_type": "code",
      "source": "print",
      "metadata": {},
      "execution_count": null,
      "outputs": []
    }
  ]
}